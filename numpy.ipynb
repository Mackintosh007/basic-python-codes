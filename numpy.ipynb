{
 "cells": [
  {
   "cell_type": "code",
   "execution_count": 3,
   "id": "12126a7b-5ccd-4fe0-a8de-6e741e010a74",
   "metadata": {},
   "outputs": [],
   "source": [
    "import numpy as np"
   ]
  },
  {
   "cell_type": "markdown",
   "id": "e6d54b27-2fa9-4f47-9853-f118dfe6cbf7",
   "metadata": {},
   "source": [
    "**numpy has been imported into jupyter to carry out some numeric computations.**"
   ]
  },
  {
   "cell_type": "code",
   "execution_count": null,
   "id": "d96e4736-d4e0-4743-8e15-4d4d203be669",
   "metadata": {},
   "outputs": [],
   "source": []
  },
  {
   "cell_type": "code",
   "execution_count": 9,
   "id": "505eb282-e619-41ce-ac62-c308120da1cc",
   "metadata": {},
   "outputs": [],
   "source": [
    "rng = np.random.default_rng()"
   ]
  },
  {
   "cell_type": "markdown",
   "id": "8c9feeed-2ca5-4dc2-810f-e013272e3b29",
   "metadata": {},
   "source": [
    "**rng has been defined as a Numpy Random Number Generator, this creates a default random generator instance\n",
    "which can be used to generate random numbers.**"
   ]
  },
  {
   "cell_type": "code",
   "execution_count": null,
   "id": "617fa867-4ee6-44ab-b608-a8673ac94e1a",
   "metadata": {},
   "outputs": [],
   "source": []
  },
  {
   "cell_type": "code",
   "execution_count": 11,
   "id": "7de4a7f2-bab2-4c17-9935-85ed351fec51",
   "metadata": {},
   "outputs": [
    {
     "data": {
      "text/plain": [
       "array([25, 95, 79, 32, 63, 79,  6, 26, 62, 36,  4, 84, 26, 78, 68, 46, 34,\n",
       "       60, 21, 87, 50, 88, 53, 13, 27, 98, 42, 80, 45, 21, 92, 56, 84, 57,\n",
       "       85, 79, 75, 99, 53, 72, 16, 97, 73, 14, 45, 54, 58, 19, 84, 38])"
      ]
     },
     "execution_count": 11,
     "metadata": {},
     "output_type": "execute_result"
    }
   ],
   "source": [
    "scores = rng.integers(100, size=50)\n",
    "scores"
   ]
  },
  {
   "cell_type": "markdown",
   "id": "4d6d1aa9-38af-45ae-9abb-c5dcba5a8bc4",
   "metadata": {},
   "source": [
    "***for the variable scores, a random number between (0-100) has been generated, with a specific range of (50).***"
   ]
  },
  {
   "cell_type": "code",
   "execution_count": null,
   "id": "e4197e73-7553-487e-af08-19f8728b0389",
   "metadata": {},
   "outputs": [],
   "source": []
  },
  {
   "cell_type": "code",
   "execution_count": 14,
   "id": "3f30c60a-92b0-42f2-87a0-5a1cb58a87ee",
   "metadata": {},
   "outputs": [
    {
     "data": {
      "text/plain": [
       "np.int64(99)"
      ]
     },
     "execution_count": 14,
     "metadata": {},
     "output_type": "execute_result"
    }
   ],
   "source": [
    "highest_num = np.max(scores)\n",
    "highest_num"
   ]
  },
  {
   "cell_type": "markdown",
   "id": "4de5c7e4-2730-4a13-b120-b48ee1a1f7ec",
   "metadata": {},
   "source": [
    "***from the numbers generated, the highest number is (99)***"
   ]
  },
  {
   "cell_type": "code",
   "execution_count": null,
   "id": "cfbc2ee9-ccf3-492e-9fe4-e3d383f83696",
   "metadata": {},
   "outputs": [],
   "source": []
  },
  {
   "cell_type": "code",
   "execution_count": 15,
   "id": "375751f8-0285-47bd-9c86-4d2d1f8c4936",
   "metadata": {},
   "outputs": [
    {
     "data": {
      "text/plain": [
       "np.int64(4)"
      ]
     },
     "execution_count": 15,
     "metadata": {},
     "output_type": "execute_result"
    }
   ],
   "source": [
    "lowest_num = np.min(scores)\n",
    "lowest_num"
   ]
  },
  {
   "cell_type": "markdown",
   "id": "a7a00463-4ef3-4c08-986b-8f6a6bbceba3",
   "metadata": {},
   "source": [
    "***from the generated numbers, the lowest number is (4)***"
   ]
  },
  {
   "cell_type": "code",
   "execution_count": null,
   "id": "fc92daba-a56d-474a-ac25-7146f71a8ac6",
   "metadata": {},
   "outputs": [],
   "source": []
  },
  {
   "cell_type": "code",
   "execution_count": 16,
   "id": "5245f6cd-0422-4332-ab6c-1352570a1103",
   "metadata": {},
   "outputs": [
    {
     "data": {
      "text/plain": [
       "np.float64(55.56)"
      ]
     },
     "execution_count": 16,
     "metadata": {},
     "output_type": "execute_result"
    }
   ],
   "source": [
    "scores_average = np.mean(scores)\n",
    "scores_average"
   ]
  },
  {
   "cell_type": "markdown",
   "id": "f106dda8-c0c0-4e2a-8291-8ef955e3b775",
   "metadata": {},
   "source": [
    "**within the (50) numbers that was randomly generated, the average is (55.56)**"
   ]
  },
  {
   "cell_type": "code",
   "execution_count": null,
   "id": "07d58ae3-8267-4702-acd2-2ea484fc0a05",
   "metadata": {},
   "outputs": [],
   "source": []
  },
  {
   "cell_type": "code",
   "execution_count": 17,
   "id": "3551ee28-aad6-4eec-96b9-b6fcd8fb7223",
   "metadata": {},
   "outputs": [
    {
     "data": {
      "text/plain": [
       "array([95, 79, 32, 63, 79, 26, 62, 36, 84, 26, 78, 68, 46, 34, 60, 87, 50,\n",
       "       88, 53, 27, 98, 42, 80, 45, 92, 56, 84, 57, 85, 79, 75, 99, 53, 72,\n",
       "       97, 73, 45, 54, 58, 84, 38])"
      ]
     },
     "execution_count": 17,
     "metadata": {},
     "output_type": "execute_result"
    }
   ],
   "source": [
    "scores_above25 = scores[scores > 25]\n",
    "scores_above25"
   ]
  },
  {
   "cell_type": "markdown",
   "id": "2fd4cc0d-5084-4986-9934-a203bd43ab3b",
   "metadata": {},
   "source": [
    "***the above numbers are numbers within the generated scores that are greater(>) than (25)***"
   ]
  }
 ],
 "metadata": {
  "kernelspec": {
   "display_name": "Python 3 (ipykernel)",
   "language": "python",
   "name": "python3"
  },
  "language_info": {
   "codemirror_mode": {
    "name": "ipython",
    "version": 3
   },
   "file_extension": ".py",
   "mimetype": "text/x-python",
   "name": "python",
   "nbconvert_exporter": "python",
   "pygments_lexer": "ipython3",
   "version": "3.12.4"
  }
 },
 "nbformat": 4,
 "nbformat_minor": 5
}
